{
 "cells": [
  {
   "cell_type": "markdown",
   "id": "4811ce7d",
   "metadata": {},
   "source": [
    "### 1. GENERALIZED BALANCE ALGORITHM - 2 advertisers\n",
    "### 2. GENERALIZED BALANCE ALGORITHM - 3 advertisers\n",
    "### 3. BALANCE ALGORITHM"
   ]
  },
  {
   "cell_type": "markdown",
   "id": "36001c23",
   "metadata": {},
   "source": [
    "#### 1. Generalized Balance Algorithm"
   ]
  },
  {
   "cell_type": "code",
   "execution_count": 22,
   "id": "87b8507d",
   "metadata": {},
   "outputs": [
    {
     "data": {
      "text/plain": [
       "(['B', 'B', 'A', 'B', 'A'],\n",
       " [{'step': 1,\n",
       "   'Psi_A': 1.2642411176571153,\n",
       "   'Psi_B': 1.896361676485673,\n",
       "   'remaining_budget_A': 16,\n",
       "   'remaining_budget_B': 9,\n",
       "   'allocation': 'B'},\n",
       "  {'step': 2,\n",
       "   'Psi_A': 1.2642411176571153,\n",
       "   'Psi_B': 1.582900341776956,\n",
       "   'remaining_budget_A': 16,\n",
       "   'remaining_budget_B': 6,\n",
       "   'allocation': 'B'},\n",
       "  {'step': 3,\n",
       "   'Psi_A': 1.2642411176571153,\n",
       "   'Psi_B': 1.1804080208620997,\n",
       "   'remaining_budget_A': 14,\n",
       "   'remaining_budget_B': 6,\n",
       "   'allocation': 'A'},\n",
       "  {'step': 4,\n",
       "   'Psi_A': 1.1662759606429831,\n",
       "   'Psi_B': 1.1804080208620997,\n",
       "   'remaining_budget_A': 14,\n",
       "   'remaining_budget_B': 3,\n",
       "   'allocation': 'B'},\n",
       "  {'step': 5,\n",
       "   'Psi_A': 1.1662759606429831,\n",
       "   'Psi_B': 0.6635976507857854,\n",
       "   'remaining_budget_A': 12,\n",
       "   'remaining_budget_B': 3,\n",
       "   'allocation': 'A'}])"
      ]
     },
     "execution_count": 22,
     "metadata": {},
     "output_type": "execute_result"
    }
   ],
   "source": [
    "import math\n",
    "\n",
    "# Initializing budgets and bids for advertisers A and B\n",
    "budget_A = 16  # Budget of Advertiser A\n",
    "bid_A = 2  # Bid of Advertiser A\n",
    "budget_B = 12  # Budget of Advertiser B\n",
    "bid_B = 3  # Bid of Advertiser B\n",
    "\n",
    "# Initialize remaining budget for both advertisers\n",
    "remaining_budget_A = budget_A\n",
    "remaining_budget_B = budget_B\n",
    "\n",
    "# Initialize the sequence of allocations and detailed step results\n",
    "allocations = []\n",
    "detailed_step_results = []\n",
    "\n",
    "# Function to calculate Psi\n",
    "def calculate_psi(bid, remaining_budget, total_budget):\n",
    "    fraction_remaining = remaining_budget / total_budget\n",
    "    return bid * (1 - math.exp(-fraction_remaining))\n",
    "\n",
    "# NUMBER OF QUERIES - Calculate the allocations for 5 queries and record detailed results at each step\n",
    "for i in range(5):\n",
    "    Psi_A = calculate_psi(bid_A, remaining_budget_A, budget_A)\n",
    "    Psi_B = calculate_psi(bid_B, remaining_budget_B, budget_B)\n",
    "    \n",
    "    # Check which advertiser gets the query\n",
    "    if Psi_A > Psi_B:\n",
    "        allocations.append('A')\n",
    "        remaining_budget_A -= bid_A  # Reduce the budget of A by the bid amount\n",
    "    else:\n",
    "        allocations.append('B')\n",
    "        remaining_budget_B -= bid_B  # Reduce the budget of B by the bid amount\n",
    "\n",
    "    # Record the detailed step results\n",
    "    detailed_step_results.append({\n",
    "        'step': i + 1,\n",
    "        'Psi_A': Psi_A,\n",
    "        'Psi_B': Psi_B,\n",
    "        'remaining_budget_A': remaining_budget_A,\n",
    "        'remaining_budget_B': remaining_budget_B,\n",
    "        'allocation': 'A' if Psi_A > Psi_B else 'B'\n",
    "    })\n",
    "\n",
    "    # Ensure that the budget does not go below zero\n",
    "    remaining_budget_A = max(remaining_budget_A, 0)\n",
    "    remaining_budget_B = max(remaining_budget_B, 0)\n",
    "\n",
    "allocations, detailed_step_results\n"
   ]
  },
  {
   "cell_type": "code",
   "execution_count": null,
   "id": "8b705178",
   "metadata": {},
   "outputs": [],
   "source": []
  },
  {
   "cell_type": "markdown",
   "id": "c48f0dee",
   "metadata": {},
   "source": [
    "### 2. Generalized balance algorithm - 3 advertisers, with spent money (Q7 of laste year's exam)"
   ]
  },
  {
   "cell_type": "code",
   "execution_count": 23,
   "id": "69ba1519",
   "metadata": {},
   "outputs": [
    {
     "data": {
      "text/plain": [
       "(46.65103842571932, 'B')"
      ]
     },
     "execution_count": 23,
     "metadata": {},
     "output_type": "execute_result"
    }
   ],
   "source": [
    "import numpy as np\n",
    "\n",
    "# Advertiser data\n",
    "advertisers = {\n",
    "    'A': {'bid': 50, 'budget': 1000, 'spent': 100},\n",
    "    'B': {'bid': 80, 'budget': 2000, 'spent': 250},\n",
    "    'C': {'bid': 50, 'budget': 1500, 'spent': 300}\n",
    "}\n",
    "\n",
    "# Calculate the unspent fraction and Psi for each advertiser\n",
    "for advertiser, data in advertisers.items():\n",
    "    f_i = (data['budget'] - data['spent']) / data['budget']\n",
    "    Psi_i = data['bid'] * (1 - np.exp(-f_i))\n",
    "    advertisers[advertiser]['f_i'] = f_i\n",
    "    advertisers[advertiser]['Psi_i'] = Psi_i\n",
    "\n",
    "# Find the advertiser with the maximum Psi\n",
    "max_Psi_advertiser = max(advertisers, key=lambda x: advertisers[x]['Psi_i'])\n",
    "advertisers[max_Psi_advertiser]['Psi_i'], max_Psi_advertiser\n"
   ]
  },
  {
   "cell_type": "markdown",
   "id": "3d234f5c",
   "metadata": {},
   "source": [
    "### 3. Balance Algorithm"
   ]
  },
  {
   "cell_type": "code",
   "execution_count": 24,
   "id": "08f51676",
   "metadata": {},
   "outputs": [
    {
     "data": {
      "text/plain": [
       "(18, 24, [3, 3, 6, 6])"
      ]
     },
     "execution_count": 24,
     "metadata": {},
     "output_type": "execute_result"
    }
   ],
   "source": [
    "# Initialize budgets and bids for manual step-by-step calculation\n",
    "budgets = {1: 6, 2: 6, 3: 6, 4: 6}\n",
    "bids = {\n",
    "    1: ['k1'],\n",
    "    2: ['k1', 'k2'],\n",
    "    3: ['k1', 'k2', 'k3'],\n",
    "    4: ['k1', 'k2', 'k3', 'k4']\n",
    "}\n",
    "\n",
    "# Initialize the query sequence manually\n",
    "query_sequence = ['k2']*6 + ['k1']*6 + ['k4']*6 + ['k3']*6 \n",
    "\n",
    "# Manually perform the allocation for the BALANCE algorithm\n",
    "def manual_balance_allocation(budgets, bids, query_sequence):\n",
    "    allocations = []\n",
    "\n",
    "    for query in query_sequence:\n",
    "        eligible_advertisers = [adv for adv in bids if query in bids[adv] and budgets[adv] > 0]\n",
    "        if not eligible_advertisers:\n",
    "            continue\n",
    "\n",
    "        # Sort by budget and ID to apply the tie-breaking rule\n",
    "        eligible_advertisers.sort(key=lambda x: (-budgets[x], x))\n",
    "        winner = eligible_advertisers[0]\n",
    "        allocations.append(winner)\n",
    "        budgets[winner] -= 1\n",
    "\n",
    "    return allocations\n",
    "\n",
    "# Perform the manual allocation\n",
    "manual_allocations = manual_balance_allocation(budgets.copy(), bids, query_sequence)\n",
    "\n",
    "# Calculate the number of queries handled for each advertiser\n",
    "handled_queries = {adv: manual_allocations.count(adv) for adv in budgets.keys()}\n",
    "handled_queries_values = list(handled_queries.values())\n",
    "\n",
    "# Count the total number of queries handled in the BALANCE algorithm\n",
    "total_handled_queries = sum(handled_queries.values())\n",
    "\n",
    "# The OPTIMAL algorithm will always handle all queries because it will distribute the queries in the most efficient way\n",
    "# Since each advertiser has a budget for 6 queries, the OPTIMAL can handle all 24 queries\n",
    "total_optimal_handled = 24\n",
    "\n",
    "total_handled_queries, total_optimal_handled, handled_queries_values\n"
   ]
  },
  {
   "cell_type": "code",
   "execution_count": null,
   "id": "061cf362",
   "metadata": {},
   "outputs": [],
   "source": []
  }
 ],
 "metadata": {
  "kernelspec": {
   "display_name": "Python 3 (ipykernel)",
   "language": "python",
   "name": "python3"
  },
  "language_info": {
   "codemirror_mode": {
    "name": "ipython",
    "version": 3
   },
   "file_extension": ".py",
   "mimetype": "text/x-python",
   "name": "python",
   "nbconvert_exporter": "python",
   "pygments_lexer": "ipython3",
   "version": "3.10.14"
  }
 },
 "nbformat": 4,
 "nbformat_minor": 5
}
