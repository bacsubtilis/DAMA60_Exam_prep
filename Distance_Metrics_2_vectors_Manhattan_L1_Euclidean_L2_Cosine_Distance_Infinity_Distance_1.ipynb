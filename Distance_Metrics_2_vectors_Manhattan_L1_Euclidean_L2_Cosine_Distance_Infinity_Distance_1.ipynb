{
 "cells": [
  {
   "cell_type": "code",
   "execution_count": 16,
   "id": "c52471a2",
   "metadata": {},
   "outputs": [],
   "source": [
    "# Vectors\n",
    "x = np.array([1, 2, -1])\n",
    "y = np.array([2, 1, 1])\n"
   ]
  },
  {
   "cell_type": "markdown",
   "id": "1030e88c",
   "metadata": {},
   "source": [
    "### Cosine Distance"
   ]
  },
  {
   "cell_type": "code",
   "execution_count": 22,
   "id": "90437ec9",
   "metadata": {},
   "outputs": [
    {
     "data": {
      "text/plain": [
       "0.4999999999999999"
      ]
     },
     "execution_count": 22,
     "metadata": {},
     "output_type": "execute_result"
    }
   ],
   "source": [
    "import numpy as np\n",
    "\n",
    "\n",
    "# Calculating the cosine similarity\n",
    "cosine_similarity = np.dot(x, y) / (np.linalg.norm(x) * np.linalg.norm(y))\n",
    "\n",
    "#The cosine distance is calculated as  1 minus the cosine similarity. \n",
    "#Remember that cosine similarity measures the cosine of the angle between two vectors, \n",
    "#which is a measure of orientation and not magnitude.\n",
    "\n",
    "\n",
    "# Calculating the cosine distance\n",
    "cosine_distance = 1 - cosine_similarity\n",
    "cosine_distance\n"
   ]
  },
  {
   "cell_type": "markdown",
   "id": "d3e5f281",
   "metadata": {},
   "source": [
    "### Euclidean Distance"
   ]
  },
  {
   "cell_type": "code",
   "execution_count": 18,
   "id": "5ebfd2e1",
   "metadata": {},
   "outputs": [
    {
     "data": {
      "text/plain": [
       "2.449489742783178"
      ]
     },
     "execution_count": 18,
     "metadata": {},
     "output_type": "execute_result"
    }
   ],
   "source": [
    "def euclidean_distance(x, y):\n",
    "    return np.sqrt(np.sum((x - y) ** 2))\n",
    "euclidean_distance(x, y)"
   ]
  },
  {
   "cell_type": "markdown",
   "id": "770017ad",
   "metadata": {},
   "source": [
    "###  Manhattan Distance"
   ]
  },
  {
   "cell_type": "code",
   "execution_count": 19,
   "id": "c9dbbedb",
   "metadata": {},
   "outputs": [
    {
     "name": "stdout",
     "output_type": "stream",
     "text": [
      "Manhattan Distance: 4\n"
     ]
    }
   ],
   "source": [
    "import numpy as np\n",
    "\n",
    "# Function to calculate Manhattan Distance\n",
    "def manhattan_distance(x, y):\n",
    "    return np.sum(np.abs(x - y))\n",
    "\n",
    "# Calculate Manhattan Distance\n",
    "distance = manhattan_distance(x, y)\n",
    "print(\"Manhattan Distance:\", distance)\n"
   ]
  },
  {
   "cell_type": "markdown",
   "id": "2fe15c08",
   "metadata": {},
   "source": [
    "### L ∞ (Infinity) Chebyshev Distance"
   ]
  },
  {
   "cell_type": "code",
   "execution_count": 21,
   "id": "7d67d3b4",
   "metadata": {},
   "outputs": [
    {
     "name": "stdout",
     "output_type": "stream",
     "text": [
      "Chebyshev Distance: 2\n"
     ]
    }
   ],
   "source": [
    "# Function to calculate Chebyshev Distance\n",
    "def chebyshev_distance(x, y):\n",
    "    return np.max(np.abs(x - y))\n",
    "\n",
    "# Calculate Chebyshev Distance\n",
    "distance = chebyshev_distance(x, y)\n",
    "print(\"Chebyshev Distance:\", distance)"
   ]
  },
  {
   "cell_type": "code",
   "execution_count": null,
   "id": "f09f4e7c",
   "metadata": {},
   "outputs": [],
   "source": []
  }
 ],
 "metadata": {
  "kernelspec": {
   "display_name": "Python 3 (ipykernel)",
   "language": "python",
   "name": "python3"
  },
  "language_info": {
   "codemirror_mode": {
    "name": "ipython",
    "version": 3
   },
   "file_extension": ".py",
   "mimetype": "text/x-python",
   "name": "python",
   "nbconvert_exporter": "python",
   "pygments_lexer": "ipython3",
   "version": "3.10.14"
  }
 },
 "nbformat": 4,
 "nbformat_minor": 5
}
