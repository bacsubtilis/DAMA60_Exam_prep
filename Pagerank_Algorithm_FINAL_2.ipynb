{
 "cells": [
  {
   "cell_type": "markdown",
   "id": "84a37d15",
   "metadata": {},
   "source": [
    "## Pagerank with teleportation\n",
    "## (SOS !!!. This code assumes a column stochastic transition probability matrix. if given/constructed in row form, turn it into column form)!!!"
   ]
  },
  {
   "cell_type": "markdown",
   "id": "0c6cab59",
   "metadata": {},
   "source": [
    "### 1. First, we define the function. Do not do anything at this point, this is just the definition of the function, we set the 4 parameters of the excercise later"
   ]
  },
  {
   "cell_type": "code",
   "execution_count": 12,
   "id": "1dd88c8d",
   "metadata": {},
   "outputs": [],
   "source": [
    "import numpy as np\n",
    "def PageRank(M, beta, iteration, initial_vector):\n",
    "    # Ensure the matrix is column stochastic\n",
    "    if not np.allclose(M.sum(axis=0), np.ones(M.shape[1])):\n",
    "        raise ValueError(\"The input matrix M must be column stochastic.\")\n",
    "\n",
    "    # Get the size of the M matrix (only one side is enough, square)\n",
    "    M_size = len(M)\n",
    "    \n",
    "    # Ensure the initial vector is provided and its length matches the size of the matrix\n",
    "    if initial_vector is None or len(initial_vector) != M_size:\n",
    "        raise ValueError(\"An initial vector of the correct size must be provided.\")\n",
    "    \n",
    "    # Construct the nxn matrix\n",
    "    init_prob = 1 / M_size\n",
    "    nxn = np.full((M_size, M_size), init_prob)\n",
    "    \n",
    "    # Calculate the initial matrix A\n",
    "    Al = (beta * M) + ((1 - beta) * nxn)\n",
    "    \n",
    "    # Construct the initial vector\n",
    "    r = np.matrix(initial_vector).T\n",
    "    \n",
    "    # Calculate the iterations and return the results\n",
    "    for i in range(1, iteration + 1):\n",
    "        r = Al @ r\n",
    "        print(f\"Iteration {i}\")\n",
    "        print(np.transpose(r))\n",
    "    \n",
    "    return r\n",
    "############# MODIFY THE  PARAMETERS BELOW #############\n",
    "\n"
   ]
  },
  {
   "cell_type": "markdown",
   "id": "c8b7a9b7",
   "metadata": {},
   "source": [
    "### 1. We define the adjacency matrix \"Mat\", \n",
    "### 2. We set the beta (b=1 if no teleportation needed),\n",
    "### 3. We set the number of iterations and\n",
    "### 4. SET THE INITIAL VECTOR ! usually each of  its elements are either 1/M (e.g. for a 5x5 matrix: [1/5,1/5,1/5,1/5,1/5]) or only ones ([1,1,1,1,1]"
   ]
  },
  {
   "cell_type": "code",
   "execution_count": 15,
   "id": "addcfeba",
   "metadata": {},
   "outputs": [
    {
     "name": "stdout",
     "output_type": "stream",
     "text": [
      "Iteration 1\n",
      "[[0.1 0.1 0.3 0.3 0.2]]\n"
     ]
    },
    {
     "data": {
      "text/plain": [
       "matrix([[0.1],\n",
       "        [0.1],\n",
       "        [0.3],\n",
       "        [0.3],\n",
       "        [0.2]])"
      ]
     },
     "execution_count": 15,
     "metadata": {},
     "output_type": "execute_result"
    }
   ],
   "source": [
    "# 1. Transition Proabablitiy Matricx \n",
    "#SOS, REMEMBER, THIS MUST BE A COLUMN STOCHASTIC MATRIX FOR THE PURPOSES OF THE SCRIPT !!!\n",
    "Mat = np.matrix([\n",
    "     [0,0,0,0,1/2],\n",
    "     [1/2,0,0,0,0],\n",
    "     [1/2,1,0,0,0],\n",
    "     [0,0,1,0,1/2],\n",
    "     [0,0,0,1,0]\n",
    "         ])\n",
    "\n",
    "# 2. Set beta (use 1 if no teleportation is required)\n",
    "beta = 1\n",
    "\n",
    "# 3. Set number of iterations (as requested)\n",
    "iteration = 1\n",
    "# 4. Set initial vector (mandatory)\n",
    "initial_vector = [1/5, 1/5, 1/5, 1/5, 1/5]\n",
    "\n",
    "########### END OF MODIFICATION ##################\n",
    "\n",
    "# Run the PageRank def\n",
    "Results = PageRank(Mat, beta, iteration, initial_vector)\n",
    "Results"
   ]
  },
  {
   "cell_type": "code",
   "execution_count": null,
   "id": "c9e4472b",
   "metadata": {},
   "outputs": [],
   "source": []
  },
  {
   "cell_type": "code",
   "execution_count": null,
   "id": "ff686b13",
   "metadata": {},
   "outputs": [],
   "source": []
  }
 ],
 "metadata": {
  "kernelspec": {
   "display_name": "Python 3 (ipykernel)",
   "language": "python",
   "name": "python3"
  },
  "language_info": {
   "codemirror_mode": {
    "name": "ipython",
    "version": 3
   },
   "file_extension": ".py",
   "mimetype": "text/x-python",
   "name": "python",
   "nbconvert_exporter": "python",
   "pygments_lexer": "ipython3",
   "version": "3.10.14"
  }
 },
 "nbformat": 4,
 "nbformat_minor": 5
}
