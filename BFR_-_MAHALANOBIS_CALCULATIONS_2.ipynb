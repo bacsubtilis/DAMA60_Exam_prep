{
 "cells": [
  {
   "cell_type": "markdown",
   "id": "b3fcb65c",
   "metadata": {},
   "source": [
    "### 1. Define necessary functions\n",
    "### 2. Define clusters of two-dimensional points and calculate and print statistics for each cluster\n",
    "### 3. Define new points to be assigned to a cluster \n",
    "### 4. Calculate the new normalized Euclidean distance threshold based on the dimensionality of the data\n",
    "### 5. Assign new points to a cluster based on normalized Euclidean distance"
   ]
  },
  {
   "cell_type": "code",
   "execution_count": 16,
   "id": "b7aa74b5",
   "metadata": {},
   "outputs": [
    {
     "name": "stdout",
     "output_type": "stream",
     "text": [
      "Cluster 1 - Mean: [2.2 8.8], Variance: [1.36 1.36], Standard Deviation: [1.166 1.166], Sum: [11 44], Sum of Squares: [ 31 394], Threshold: 2.828\n",
      "Cluster 2 - Mean: [7.   3.25], Variance: [1.    1.688], Standard Deviation: [1.    1.299], Sum: [28 13], Sum of Squares: [200  49], Threshold: 2.828\n",
      "Cluster 3 - Mean: [1.667 2.   ], Variance: [0.222 0.667], Standard Deviation: [0.471 0.816], Sum: [5 6], Sum of Squares: [ 9 14], Threshold: 2.828\n",
      "Point [6 8] not assigned to any cluster (Distances: [Cluster 1: 3.33, Cluster 2: 3.791, Cluster 3: 11.769])\n",
      "Point [2 2] assigned to Cluster 3 (Distance: 0.707) - Distances: [Cluster 1: 5.833, Cluster 2: 5.092, Cluster 3: 0.707]\n",
      "Point [6 5] assigned to Cluster 2 (Distance: 1.678) - Distances: [Cluster 1: 4.608, Cluster 2: 1.678, Cluster 3: 9.899]\n"
     ]
    }
   ],
   "source": [
    "import numpy as np\n",
    "import pandas as pd\n",
    "\n",
    "# Define necessary functions\n",
    "def calculate_statistics(points, decimals):\n",
    "    \"\"\"Calculate various statistics for each dimension of a set of points.\"\"\"\n",
    "    mean = np.mean(points, axis=0)\n",
    "    variance = np.var(points, axis=0, ddof=0)  # Population variance\n",
    "    std_dev = np.sqrt(variance)\n",
    "    sum_i = np.sum(points, axis=0)\n",
    "    sum_sq_i = np.sum(points**2, axis=0)\n",
    "    return np.round(mean, decimals), np.round(variance, decimals), np.round(std_dev, decimals), np.round(sum_i, decimals), np.round(sum_sq_i, decimals)\n",
    "\n",
    "def calculate_mahalanobis_distance(new_point, cluster_points, decimals=4):\n",
    "    \"\"\"Calculate the Mahalanobis distance of a new point from a cluster.\"\"\"\n",
    "    cluster_center = np.mean(cluster_points, axis=0)\n",
    "    std_devs = np.sqrt(np.var(cluster_points, axis=0, ddof=0))\n",
    "    \n",
    "    normalized_diff = (new_point - cluster_center) / std_devs\n",
    "    distance = np.sqrt(np.sum(normalized_diff ** 2))\n",
    "    return round(distance, decimals)\n",
    "#---------INPUT AREA---------------------------------------------------------------\n",
    "# Number of decimal places for all outputs\n",
    "decimals = 3\n",
    "\n",
    "# Define clusters of two-dimensional points\n",
    "cluster1_points = np.array([[1, 7], [1, 10], [3, 8], [4, 10], [2, 9]])  # Cluster 1\n",
    "cluster2_points = np.array([[6, 2], [6, 4], [8, 2], [8, 5]])  # Cluster 2\n",
    "cluster3_points = np.array([[1, 2], [2, 1], [2, 3]])  # Cluster 3\n",
    "\n",
    "# Calculate and print statistics for each cluster\n",
    "clusters = [cluster1_points, cluster2_points, cluster3_points]\n",
    "thresholds = []\n",
    "dimensionality = cluster1_points.shape[1]  # Assuming all clusters have the same dimensionality\n",
    "for i, cluster in enumerate(clusters, 1):\n",
    "    mean, var, std, sum_i, sum_sq_i = calculate_statistics(cluster, decimals)\n",
    "    threshold = 2 * np.sqrt(dimensionality)  # Threshold is 2 times the square root of the dimensionality\n",
    "    thresholds.append(threshold)\n",
    "    print(f\"Cluster {i} - Mean: {mean}, Variance: {var}, Standard Deviation: {std}, Sum: {sum_i}, Sum of Squares: {sum_sq_i}, Threshold: {threshold:.3f}\")\n",
    "\n",
    "# Define new points to be assigned to a cluster\n",
    "new_points = np.array([[6, 8], [2, 2], [6, 5]])  # New points\n",
    "#---------------------------------------------------------------------------------------------------\n",
    "# Assign new points to a cluster based on Mahalanobis distance\n",
    "for new_point in new_points:\n",
    "    distances = [calculate_mahalanobis_distance(new_point, cluster, decimals=decimals) for cluster in clusters]\n",
    "\n",
    "    # Find the cluster with the minimum distance that is also below the cluster-specific threshold\n",
    "    min_distance = min(distances)\n",
    "    assigned_cluster = None\n",
    "    for idx, distance in enumerate(distances):\n",
    "        if distance < thresholds[idx]:\n",
    "            assigned_cluster = idx + 1\n",
    "            break\n",
    "\n",
    "    distance_str = \", \".join([f\"Cluster {i+1}: {dist}\" for i, dist in enumerate(distances)])\n",
    "    if assigned_cluster:\n",
    "        print(f\"Point {new_point} assigned to Cluster {assigned_cluster} (Distance: {min_distance}) - Distances: [{distance_str}]\")\n",
    "    else:\n",
    "        print(f\"Point {new_point} not assigned to any cluster (Distances: [{distance_str}])\")\n",
    "\n"
   ]
  },
  {
   "cell_type": "code",
   "execution_count": null,
   "id": "e1366fb4",
   "metadata": {},
   "outputs": [],
   "source": []
  }
 ],
 "metadata": {
  "kernelspec": {
   "display_name": "Python 3 (ipykernel)",
   "language": "python",
   "name": "python3"
  },
  "language_info": {
   "codemirror_mode": {
    "name": "ipython",
    "version": 3
   },
   "file_extension": ".py",
   "mimetype": "text/x-python",
   "name": "python",
   "nbconvert_exporter": "python",
   "pygments_lexer": "ipython3",
   "version": "3.10.14"
  }
 },
 "nbformat": 4,
 "nbformat_minor": 5
}
