{
 "cells": [
  {
   "cell_type": "code",
   "execution_count": 26,
   "id": "04e6226b",
   "metadata": {},
   "outputs": [
    {
     "name": "stdout",
     "output_type": "stream",
     "text": [
      "U_reduced:\n",
      " [[-0.54360657  0.12523598]\n",
      " [-0.44337089  0.20514606]\n",
      " [-0.41081768  0.24411384]\n",
      " [-0.41888848  0.24188427]\n",
      " [-0.21332469 -0.52095791]\n",
      " [-0.22997204 -0.448301  ]\n",
      " [-0.11111531 -0.3868991 ]\n",
      " [-0.23007443 -0.44952155]]\n",
      "Sigma_reduced:\n",
      " [[17.099392    0.        ]\n",
      " [ 0.         11.81291776]]\n",
      "V_reduced:\n",
      " [[-0.45866675  0.18421895]\n",
      " [-0.32015953  0.20421731]\n",
      " [-0.52063844  0.18741013]\n",
      " [-0.52114001  0.1937495 ]\n",
      " [-0.29895385 -0.65501004]\n",
      " [-0.23472963 -0.65012237]]\n",
      "VT_reduced:\n",
      " [[-0.45866675 -0.32015953 -0.52063844 -0.52114001 -0.29895385 -0.23472963]\n",
      " [ 0.18421895  0.20421731  0.18741013  0.1937495  -0.65501004 -0.65012237]]\n",
      "Retained Energy Percentage (RE%): 97.94427048592482\n",
      "Mean Square Error (MSE): 0.18887014910565678\n"
     ]
    }
   ],
   "source": [
    "import numpy as np\n",
    "\n",
    "# Rating matrix R, where rows correspond to users and columns to movies\n",
    "R = np.array([\n",
    "    [5, 3, 5, 5, 2, 1],\n",
    "    [4, 4, 4, 4, 1, 0],\n",
    "    [3, 3, 4, 5, 0, 0],\n",
    "    [4, 2, 5, 4, 0, 0],\n",
    "    [1, 0, 1, 0, 5, 5],\n",
    "    [0, 0, 1, 2, 4, 5],\n",
    "    [0, 0, 0, 0, 4, 3],\n",
    "    [1, 0, 1, 1, 5, 4]\n",
    "])\n",
    "\n",
    "# Perform SVD\n",
    "U, Sigma, VT = np.linalg.svd(R, full_matrices=False)\n",
    "\n",
    "# Retained energy percentage for the first two singular values\n",
    "total_energy = np.sum(Sigma**2)\n",
    "retained_energy = np.sum(Sigma[:2]**2)\n",
    "RE_percent = (retained_energy / total_energy) * 100\n",
    "\n",
    "# Reconstruct the matrix using only the first two singular values\n",
    "U_reduced = U[:, :2]\n",
    "Sigma_reduced = np.diag(Sigma[:2])\n",
    "VT_reduced = VT[:2, :]\n",
    "V_reduced = VT.T[:, :2]\n",
    "R_hat = U_reduced @ Sigma_reduced @ VT_reduced\n",
    "\n",
    "# Calculate Mean Square Error (MSE)\n",
    "MSE = np.mean((R - R_hat) ** 2)\n",
    "\n",
    "# Output the reduced matrices and metrics\n",
    "print(\"U_reduced:\\n\", U_reduced)\n",
    "print(\"Sigma_reduced:\\n\", Sigma_reduced)\n",
    "print(\"V_reduced:\\n\", V_reduced)\n",
    "print(\"VT_reduced:\\n\", VT_reduced)\n",
    "print(\"Retained Energy Percentage (RE%):\", RE_percent)\n",
    "print(\"Mean Square Error (MSE):\", MSE)\n",
    "#REMEMBER, R = U * Sigma *VT , R(reduced rank) = U_reduced, Sigma_reduced, VT_reduced\n",
    "#REMEMBER, V_reduced is displayed here only for the purposes of concept space calculations"
   ]
  },
  {
   "cell_type": "markdown",
   "id": "40dcdbd0",
   "metadata": {},
   "source": [
    "## Concept space and cosine similarity for new users (all matrices are in fact the same as above)"
   ]
  },
  {
   "cell_type": "code",
   "execution_count": 27,
   "id": "3a93613b",
   "metadata": {},
   "outputs": [
    {
     "name": "stdout",
     "output_type": "stream",
     "text": [
      "george concept [-4.11855993  1.10379749]\n",
      "robert concept [-1.51597493 -2.41582285]\n",
      "cosine similarity 0.294141004123567\n"
     ]
    }
   ],
   "source": [
    "import numpy as np\n",
    "\n",
    "# Re-define the rating matrix R and user vectors for George and Robert\n",
    "R = np.array([\n",
    "    [5, 3, 5, 5, 2, 1],\n",
    "    [4, 4, 4, 4, 1, 0],\n",
    "    [3, 3, 4, 5, 0, 0],\n",
    "    [4, 2, 5, 4, 0, 0],\n",
    "    [1, 0, 1, 0, 5, 5],\n",
    "    [0, 0, 1, 2, 4, 5],\n",
    "    [0, 0, 0, 0, 4, 3],\n",
    "    [1, 0, 1, 1, 5, 4]\n",
    "])\n",
    "george_vector = np.array([0, 4, 5, 0, 0, 1])\n",
    "robert_vector = np.array([0, 1, 0, 0, 4, 0])\n",
    "\n",
    "\n",
    "\n",
    "# Project George's and Robert's vectors into the reduced space\n",
    "george_concept = george_vector @ VT_reduced.T\n",
    "robert_concept = robert_vector @ VT_reduced.T\n",
    "\n",
    "# Calculate cosine similarity between the projected vectors\n",
    "from numpy.linalg import norm\n",
    "cosine_similarity = np.dot(george_concept, robert_concept) / (norm(george_concept) * norm(robert_concept))\n",
    "\n",
    "# Outputs\n",
    "print(\"george concept\", george_concept)\n",
    "print(\"robert concept\", robert_concept)\n",
    "print(\"cosine similarity\", cosine_similarity)\n",
    "\n"
   ]
  },
  {
   "cell_type": "markdown",
   "id": "81268274",
   "metadata": {},
   "source": [
    "###  RECOMMENDATION LIST FOR THE USER !!!"
   ]
  },
  {
   "cell_type": "markdown",
   "id": "324d62f2",
   "metadata": {},
   "source": [
    "### We find the dot product of the user's concept space with V^T so as to map the user's representation to  movie space"
   ]
  },
  {
   "cell_type": "code",
   "execution_count": 28,
   "id": "57654151",
   "metadata": {},
   "outputs": [
    {
     "name": "stdout",
     "output_type": "stream",
     "text": [
      "Recommendation list for George: [2.0923869  1.54401076 2.35114343 2.36020656 0.50826091 0.24914459]\n"
     ]
    }
   ],
   "source": [
    "#Recommendation list for George\n",
    "\n",
    "print(\"Recommendation list for George:\", george_concept @ VT_reduced)"
   ]
  },
  {
   "cell_type": "code",
   "execution_count": null,
   "id": "c910c8be",
   "metadata": {},
   "outputs": [],
   "source": []
  }
 ],
 "metadata": {
  "kernelspec": {
   "display_name": "Python (brandnew)",
   "language": "python",
   "name": "brandnew"
  },
  "language_info": {
   "codemirror_mode": {
    "name": "ipython",
    "version": 3
   },
   "file_extension": ".py",
   "mimetype": "text/x-python",
   "name": "python",
   "nbconvert_exporter": "python",
   "pygments_lexer": "ipython3",
   "version": "3.11.8"
  }
 },
 "nbformat": 4,
 "nbformat_minor": 5
}
