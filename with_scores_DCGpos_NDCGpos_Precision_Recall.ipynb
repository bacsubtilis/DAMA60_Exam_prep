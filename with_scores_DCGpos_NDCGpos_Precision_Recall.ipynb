{
 "cells": [
  {
   "cell_type": "markdown",
   "id": "b7da3f62",
   "metadata": {},
   "source": [
    "### SOS, A CRUCIAL ASSUMPTION IS IN PLACE HERE:\n",
    "A user liked a recommendation if s/he gave it a relevance score of 5. Any score smaller than 5 indicates that the user did not like the recommendation. \n",
    "\n",
    "NOTE THAT RELEVANCE SCORES DO NOT MATTER FOR PRECISION/RECALL, THEY MATTER ONLY FOR DCGpos, NDCGpos"
   ]
  },
  {
   "cell_type": "code",
   "execution_count": 2,
   "id": "3e9788ae",
   "metadata": {},
   "outputs": [
    {
     "name": "stdout",
     "output_type": "stream",
     "text": [
      "Position 1: Precision=0.00, Recall=0.00, DCG=3.00\n",
      "Position 2: Precision=0.50, Recall=0.33, DCG=6.15\n",
      "Position 3: Precision=0.67, Recall=0.67, DCG=8.65\n",
      "Position 4: Precision=0.50, Recall=0.67, DCG=10.38\n",
      "Position 5: Precision=0.40, Recall=0.67, DCG=11.15\n",
      "Position 6: Precision=0.33, Recall=0.67, DCG=12.22\n",
      "Position 7: Precision=0.43, Recall=1.00, DCG=13.89\n",
      "Position 8: Precision=0.38, Recall=1.00, DCG=14.20\n"
     ]
    }
   ],
   "source": [
    "import numpy as np\n",
    "\n",
    "def precision_at_k(actual_scores, k):\n",
    "    \"\"\"Calculate Precision at position k, considering scores of 5 as 'liked'.\"\"\"\n",
    "    top_k_scores = actual_scores[:k]\n",
    "    relevant_items = sum(1 for score in top_k_scores if score == 5)\n",
    "    return relevant_items / k if k > 0 else 0\n",
    "\n",
    "def recall_at_k(actual_scores, total_relevant, k):\n",
    "    \"\"\"Calculate Recall at position k, considering scores of 5 as 'liked'.\"\"\"\n",
    "    top_k_scores = actual_scores[:k]\n",
    "    retrieved_relevant_items = sum(1 for score in top_k_scores if score == 5)\n",
    "    return retrieved_relevant_items / total_relevant if total_relevant > 0 else 0\n",
    "\n",
    "def dcg(scores):\n",
    "    \"\"\"Calculate the Discounted Cumulative Gain (DCG) using the actual relevance scores.\"\"\"\n",
    "    return np.array([score / np.log2(idx + 2) for idx, score in enumerate(scores)]).cumsum()\n",
    "\n",
    "# Example usage based on the given values:\n",
    "relevance_scores = [3, 5, 5, 4, 2, 3, 5, 1]  # Actual relevance scores from your example\n",
    "total_relevant = sum(1 for score in relevance_scores if score == 5)  # Total number of scores that are 5\n",
    "\n",
    "precision_scores = [precision_at_k(relevance_scores, k) for k in range(1, len(relevance_scores)+1)]\n",
    "recall_scores = [recall_at_k(relevance_scores, total_relevant, k) for k in range(1, len(relevance_scores)+1)]\n",
    "dcg_scores = dcg(relevance_scores)\n",
    "\n",
    "# Print the metrics at each position\n",
    "for i in range(len(relevance_scores)):\n",
    "    print(f\"Position {i+1}: Precision={precision_scores[i]:.2f}, Recall={recall_scores[i]:.2f}, DCG={dcg_scores[i]:.2f}\")\n"
   ]
  },
  {
   "cell_type": "code",
   "execution_count": null,
   "id": "2ca22610",
   "metadata": {},
   "outputs": [],
   "source": []
  }
 ],
 "metadata": {
  "kernelspec": {
   "display_name": "Python 3 (ipykernel)",
   "language": "python",
   "name": "python3"
  },
  "language_info": {
   "codemirror_mode": {
    "name": "ipython",
    "version": 3
   },
   "file_extension": ".py",
   "mimetype": "text/x-python",
   "name": "python",
   "nbconvert_exporter": "python",
   "pygments_lexer": "ipython3",
   "version": "3.10.14"
  }
 },
 "nbformat": 4,
 "nbformat_minor": 5
}
