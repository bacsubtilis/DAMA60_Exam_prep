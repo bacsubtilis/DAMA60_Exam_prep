{
 "cells": [
  {
   "cell_type": "code",
   "execution_count": 5,
   "id": "40836e6a",
   "metadata": {},
   "outputs": [],
   "source": [
    "%config IPCompleter.greedy=True"
   ]
  },
  {
   "cell_type": "code",
   "execution_count": 6,
   "id": "dcc3ddb5",
   "metadata": {},
   "outputs": [
    {
     "name": "stdout",
     "output_type": "stream",
     "text": [
      "Predicted rating for User 1 on Item 2: 3.2031\n",
      "\n",
      "Top similar items and their similarities:\n",
      "Item 5 Similarity: 0.9302\n",
      "Item 1 Similarity: 0.9272\n",
      "\n",
      "Average ratings for all items:\n",
      "Item 1: Average Rating = 4.2\n",
      "Item 2: Average Rating = 3.5\n",
      "Item 3: Average Rating = 3.2\n",
      "Item 4: Average Rating = 2.6\n",
      "Item 5: Average Rating = 2.4\n"
     ]
    }
   ],
   "source": [
    "import numpy as np\n",
    "from scipy.spatial.distance import cosine\n",
    "from scipy.stats import pearsonr\n",
    "\n",
    "# Function to calculate similarity between two items\n",
    "def calculate_similarity(item1, item2, method='cosine'):\n",
    "    common = (~np.isnan(item1) & ~np.isnan(item2))\n",
    "    if not np.any(common):\n",
    "        return np.nan\n",
    "    if method == 'cosine':\n",
    "        return round(1 - cosine(item1[common], item2[common]), 4)\n",
    "    elif method == 'pearson':\n",
    "        if np.std(item1[common]) == 0 or np.std(item2[common]) == 0:\n",
    "            return np.nan\n",
    "        return round(pearsonr(item1[common], item2[common])[0], 4)\n",
    "\n",
    "# Function to generate the item-item similarity matrix\n",
    "def generate_similarity_matrix(ratings, method='cosine'):\n",
    "    num_items = ratings.shape[1]\n",
    "    similarity_matrix = np.zeros((num_items, num_items))\n",
    "    for i in range(num_items):\n",
    "        for j in range(i, num_items):\n",
    "            similarity = calculate_similarity(ratings[:, i], ratings[:, j], method)\n",
    "            similarity_matrix[i, j] = similarity\n",
    "            similarity_matrix[j, i] = similarity  # Mirror similarity\n",
    "    return np.round(similarity_matrix, 4)\n",
    "\n",
    "# Predict rating with a comprehensive approach\n",
    "def predict_rating(user_index, item_index, ratings_matrix, num_neighbors, method='cosine'):\n",
    "    similarity_matrix = generate_similarity_matrix(ratings_matrix, method)\n",
    "    similarities, item_averages = similarity_matrix[item_index], np.nanmean(ratings_matrix, axis=0)\n",
    "    sorted_indices = np.argsort(-similarities)\n",
    "    top_indices = sorted_indices[1:num_neighbors+1]  # Exclude self similarity\n",
    "    \n",
    "    numerator, denominator = 0, 0\n",
    "    for idx in top_indices:\n",
    "        if not np.isnan(ratings_matrix[user_index, idx]):\n",
    "            numerator += similarities[idx] * (ratings_matrix[user_index, idx] - item_averages[idx])\n",
    "            denominator += abs(similarities[idx])\n",
    "    \n",
    "    predicted = item_averages[item_index] + numerator / denominator if denominator else np.nan\n",
    "    return round(predicted, 4), top_indices, np.round(similarities, 4), np.round(item_averages, 4)\n",
    "\n",
    "# Define the ratings matrix\n",
    "ratings_matrix = np.array([\n",
    "    [2, np.nan, 4, 2, 4],\n",
    "    [4, 5, 3, 4, 2],\n",
    "    [5, 3, 4, 2, 1],\n",
    "    [5, 4, 2, 1, 3],\n",
    "    [5, 2, 3, 4, 2]\n",
    "], dtype=float)\n",
    "\n",
    "# Example usage\n",
    "user_index = 0 # Note: Counting starts from 0, so first user is 0\n",
    "item_index = 1 # Note: Counting starts from 0, so first item is 0\n",
    "num_neighbors = 2 \n",
    "method = 'cosine'\n",
    "\n",
    "predicted_rating, top_indices, similarities, item_averages = predict_rating(user_index, item_index, ratings_matrix, num_neighbors, method)\n",
    "\n",
    "print(f\"Predicted rating for User {user_index + 1} on Item {item_index + 1}: {predicted_rating}\")\n",
    "print(\"\\nTop similar items and their similarities:\")\n",
    "for idx in top_indices:\n",
    "    print(f\"Item {idx + 1} Similarity: {similarities[idx]}\")\n",
    "\n",
    "print(\"\\nAverage ratings for all items:\")\n",
    "for index, avg_rating in enumerate(item_averages):\n",
    "    print(f\"Item {index + 1}: Average Rating = {avg_rating}\")\n"
   ]
  }
 ],
 "metadata": {
  "kernelspec": {
   "display_name": "Python 3 (ipykernel)",
   "language": "python",
   "name": "python3"
  },
  "language_info": {
   "codemirror_mode": {
    "name": "ipython",
    "version": 3
   },
   "file_extension": ".py",
   "mimetype": "text/x-python",
   "name": "python",
   "nbconvert_exporter": "python",
   "pygments_lexer": "ipython3",
   "version": "3.10.14"
  }
 },
 "nbformat": 4,
 "nbformat_minor": 5
}
