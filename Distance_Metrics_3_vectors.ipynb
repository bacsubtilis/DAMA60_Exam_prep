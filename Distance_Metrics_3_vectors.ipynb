{
 "cells": [
  {
   "cell_type": "code",
   "execution_count": 6,
   "id": "cda624d0",
   "metadata": {},
   "outputs": [
    {
     "name": "stdout",
     "output_type": "stream",
     "text": [
      "Distances between x and y:\n",
      "  Cosine Similarity: 0.6666666666666667\n",
      "  Cosine Distance: 0.33333333333333326\n",
      "  Euclidean Distance: 1.4142135623730951\n",
      "  Manhattan Distance: 2\n",
      "  Chebyshev Distance: 1\n",
      "\n",
      "Distances between x and z:\n",
      "  Cosine Similarity: 0.0\n",
      "  Cosine Distance: 1.0\n",
      "  Euclidean Distance: 2.23606797749979\n",
      "  Manhattan Distance: 5\n",
      "  Chebyshev Distance: 1\n",
      "\n",
      "Distances between y and z:\n",
      "  Cosine Similarity: 0.40824829046386296\n",
      "  Cosine Distance: 0.5917517095361371\n",
      "  Euclidean Distance: 1.7320508075688772\n",
      "  Manhattan Distance: 3\n",
      "  Chebyshev Distance: 1\n",
      "\n"
     ]
    }
   ],
   "source": [
    "import numpy as np\n",
    "\n",
    "# Define the vectors\n",
    "x = np.array([1,0,1,0,1,0])\n",
    "y = np.array([1,1,0,0,1,0])\n",
    "z = np.array([0,1,0,1,0,0])\n",
    "\n",
    "# Cosine Distance\n",
    "def cosine_distance(a, b):\n",
    "    cosine_similarity = np.dot(a, b) / (np.linalg.norm(a) * np.linalg.norm(b))\n",
    "    return 1 - cosine_similarity\n",
    "\n",
    "# Euclidean Distance\n",
    "def euclidean_distance(a, b):\n",
    "    return np.sqrt(np.sum((a - b) ** 2))\n",
    "\n",
    "# Manhattan Distance\n",
    "def manhattan_distance(a, b):\n",
    "    return np.sum(np.abs(a - b))\n",
    "\n",
    "# Chebyshev Distance\n",
    "def chebyshev_distance(a, b):\n",
    "    return np.max(np.abs(a - b))\n",
    "\n",
    "# List of vectors\n",
    "vectors = [x, y, z]\n",
    "vector_names = ['x', 'y', 'z']\n",
    "\n",
    "# Calculate distances between all pairs of vectors\n",
    "for i in range(len(vectors)):\n",
    "    for j in range(i + 1, len(vectors)):\n",
    "        a = vectors[i]\n",
    "        b = vectors[j]\n",
    "        name_a = vector_names[i]\n",
    "        name_b = vector_names[j]\n",
    "\n",
    "        print(f\"Distances between {name_a} and {name_b}:\")\n",
    "        print(f\"  Cosine Similarity: {np.dot(a, b) / (np.linalg.norm(a) * np.linalg.norm(b))}\")\n",
    "        print(f\"  Cosine Distance: {cosine_distance(a, b)}\")\n",
    "        print(f\"  Euclidean Distance: {euclidean_distance(a, b)}\")\n",
    "        print(f\"  Manhattan Distance: {manhattan_distance(a, b)}\")\n",
    "        print(f\"  Chebyshev Distance: {chebyshev_distance(a, b)}\")\n",
    "        #cosine similarity\n",
    "        \n",
    "        print()\n"
   ]
  },
  {
   "cell_type": "code",
   "execution_count": null,
   "id": "e6550f26",
   "metadata": {},
   "outputs": [],
   "source": []
  }
 ],
 "metadata": {
  "kernelspec": {
   "display_name": "Python 3 (ipykernel)",
   "language": "python",
   "name": "python3"
  },
  "language_info": {
   "codemirror_mode": {
    "name": "ipython",
    "version": 3
   },
   "file_extension": ".py",
   "mimetype": "text/x-python",
   "name": "python",
   "nbconvert_exporter": "python",
   "pygments_lexer": "ipython3",
   "version": "3.10.14"
  }
 },
 "nbformat": 4,
 "nbformat_minor": 5
}
